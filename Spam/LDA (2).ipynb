{
 "cells": [
  {
   "cell_type": "code",
   "execution_count": 1,
   "id": "6c3873d3",
   "metadata": {},
   "outputs": [],
   "source": [
    "# Importació de llibreries necessàries per al processament de textos, modelatge de temes,\n",
    "# classificació supervisada i anàlisi de mètriques\n",
    "import pandas as pd\n",
    "import re\n",
    "import nltk\n",
    "from nltk.stem import WordNetLemmatizer\n",
    "from nltk.corpus import wordnet\n",
    "from sklearn.feature_extraction.text import CountVectorizer\n",
    "from sklearn.decomposition import LatentDirichletAllocation\n",
    "from sklearn.model_selection import StratifiedKFold\n",
    "from sklearn.metrics import roc_auc_score\n",
    "from xgboost import XGBClassifier\n",
    "import numpy as np\n",
    "from sklearn.ensemble import GradientBoostingClassifier"
   ]
  },
  {
   "cell_type": "code",
   "execution_count": 15,
   "id": "b1f83af7",
   "metadata": {},
   "outputs": [
    {
     "name": "stdout",
     "output_type": "stream",
     "text": [ ]
    },
    {
     "data": {
      "text/plain": [
       "True"
      ]
     },
     "execution_count": 2,
     "metadata": {},
     "output_type": "execute_result"
    }
   ],
   "source": [
    "# Descàrrega de recursos de NLTK per a la tokenització, lematització i etiquetatge gramatical\n",
    "nltk.download('punkt')\n",
    "nltk.download('wordnet')\n",
    "nltk.download('averaged_perceptron_tagger')\n"
   ]
  },
  {
   "cell_type": "code",
   "execution_count": 3,
   "id": "de5cd1ac",
   "metadata": {},
   "outputs": [],
   "source": [
    "# Funció per eliminar emojis del text utilitzant una expressió regular que filtra caràcters Unicode corresponents\n",
    "def eliminar_emojis(texto):\n",
    "    if isinstance(texto, str):\n",
    "        patron_emojis = re.compile(pattern=\"[\" \n",
    "            \"\\U0001F600-\\U0001F64F\" \"\\U0001F300-\\U0001F5FF\"\n",
    "            \"\\U0001F680-\\U0001F6FF\" \"\\U0001F700-\\U0001F77F\"\n",
    "            \"\\U0001F780-\\U0001F7FF\" \"\\U0001F800-\\U0001F8FF\"\n",
    "            \"\\U0001F900-\\U0001F9FF\" \"\\U0001FA00-\\U0001FA6F\"\n",
    "            \"\\U0001FA70-\\U0001FAFF\" \"\\U00002702-\\U000027B0\"\n",
    "            \"\\U000024C2-\\U0001F251\" \"]+\", flags=re.UNICODE)\n",
    "        return patron_emojis.sub(r'', texto)\n",
    "    return texto\n",
    "\n",
    "# Inicialització del lematitzador basat en WordNet\n",
    "lemmatizer = WordNetLemmatizer()\n",
    "\n",
    "# Funció auxiliar que obté l'etiqueta gramatical (part-of-speech) de cada paraula per millorar la lematització\n",
    "def obtener_pos_tag(word):\n",
    "    tag = nltk.pos_tag([word])[0][1][0].upper()\n",
    "    tag_dict = {\"J\": wordnet.ADJ, \"N\": wordnet.NOUN, \"V\": wordnet.VERB, \"R\": wordnet.ADV}\n",
    "    return tag_dict.get(tag, wordnet.NOUN)\n",
    "\n",
    "# Funció que aplica la lematització al text:\n",
    "# Tokenitza el text, aplica la lematització amb POS, i retorna el text recomposat\n",
    "def lematizar_texto(texto):\n",
    "    palabras = nltk.word_tokenize(texto)\n",
    "    palabras_lematizadas = [lemmatizer.lemmatize(p, obtener_pos_tag(p)) for p in palabras]\n",
    "    return ' '.join(palabras_lematizadas)\n"
   ]
  },
  {
   "cell_type": "code",
   "execution_count": 4,
   "id": "5a0e2471",
   "metadata": {},
   "outputs": [
    {
     "name": "stderr",
     "output_type": "stream",
     "text": [
      "C:\\Users\\tonie\\AppData\\Local\\Temp\\ipykernel_17024\\2578721024.py:6: FutureWarning: Downcasting behavior in `replace` is deprecated and will be removed in a future version. To retain the old behavior, explicitly call `result.infer_objects(copy=False)`. To opt-in to the future behavior, set `pd.set_option('future.no_silent_downcasting', True)`\n",
      "  df['label'] = df['label'].replace({'ham': 0, 'spam': 1})\n"
     ]
    }
   ],
   "source": [
    "# Carrega del conjunt de dades SMS des d’una font en línia\n",
    "url = \"https://raw.githubusercontent.com/justmarkham/pycon-2016-tutorial/master/data/sms.tsv\"\n",
    "df = pd.read_csv(url, sep='\\t', header=None, names=['label', 'message'])\n",
    "\n",
    "# Conversió de les etiquetes de classe: 'ham' es codifica com 0 i 'spam' com 1\n",
    "df['label'] = df['label'].replace({'ham': 0, 'spam': 1})\n",
    "\n",
    "# Aplicació de la neteja i normalització del text:\n",
    "# Eliminació d'emojis i posterior lematització\n",
    "df['message'] = df['message'].apply(eliminar_emojis).apply(lematizar_texto)\n",
    "\n",
    "# Definició d'una llista de paraules buides (stopwords) que s'exclouran en el model de característiques\n",
    "stopwords = ['a', 'an', 'the', 'in', 'on', 'at', 'to', 'of', 'and', 'or',\n",
    "             'is', 'it', 'for', 'with', 'that', 'this', 'as', 'was', 'be',\n",
    "             'are', 'were', 'been', 'from', 'by', 'about', 'into', 'out',\n",
    "             'up', 'down', 'over', 'under', 'then', 'than', 'so', 'but', 'not']\n",
    "\n",
    "# Separació de les dades en variables independents (X_text) i dependents (y)\n",
    "X_text = df[\"message\"]\n",
    "y = df[\"label\"]\n"
   ]
  },
  {
   "cell_type": "code",
   "execution_count": 5,
   "id": "fa978f70",
   "metadata": {},
   "outputs": [],
   "source": [
    "# Definició dels valors de k per al nombre de temes en el model LDA\n",
    "valors_k = [10]\n",
    "resultats = []"
   ]
  },
  {
   "cell_type": "code",
   "execution_count": 19,
   "id": "047343ad",
   "metadata": {},
   "outputs": [
    {
     "name": "stdout",
     "output_type": "stream",
     "text": [
      "Iteracio: 0\n",
      "AUC-ROC: Fold 1 : 0.9745492227979276\n",
      "Iteracio: 1\n",
      "AUC-ROC: Fold 2 : 0.9694024179620035\n",
      "Iteracio: 2\n",
      "AUC-ROC: Fold 3 : 0.965698786382446\n",
      "Iteracio: 3\n",
      "AUC-ROC: Fold 4 : 0.9655492575720694\n",
      "Iteracio: 4\n",
      "AUC-ROC: Fold 5 : 0.9533261466773307\n"
     ]
    }
   ],
   "source": [
    "i=0\n",
    "# Importació addicional (no necessària) d’un altre model de boosting\n",
    "from sklearn.ensemble import GradientBoostingClassifier\n",
    "\n",
    "# Configuració del mètode de validació creuada estratificada (5 particions)\n",
    "# Es garanteix una distribució equilibrada de les classes en cada partició\n",
    "skf = StratifiedKFold(n_splits=5, shuffle=True, random_state=42)\n",
    "\n",
    "# Bucle principal d'entrenament i validació per a cada valor de k\n",
    "for k in valors_k:\n",
    "    aucs = []  # Llista per emmagatzemar les puntuacions AUC per cada partició\n",
    "    for train_index, test_index in skf.split(X_text, y):\n",
    "        # Separació de les dades entre conjunt d'entrenament i de prova\n",
    "        X_train_raw, X_test_raw = X_text.iloc[train_index], X_text.iloc[test_index]\n",
    "        y_train, y_test = y.iloc[train_index], y.iloc[test_index]\n",
    "\n",
    "        # Vectorització dels textos mitjançant una representació bag-of-words amb un límit de 10.000 característiques\n",
    "        vectorizer = CountVectorizer(max_features=10000, stop_words=stopwords)\n",
    "        X_train_counts = vectorizer.fit_transform(X_train_raw)\n",
    "        X_test_counts = vectorizer.transform(X_test_raw)\n",
    "\n",
    "        # Aplicació del model LDA per a la reducció de dimensionalitat i extracció de temes\n",
    "        lda = LatentDirichletAllocation(n_components=k, random_state=42)\n",
    "        X_train_topics = lda.fit_transform(X_train_counts)\n",
    "        X_test_topics = lda.transform(X_test_counts)\n",
    "\n",
    "        # Inicialització i entrenament del model de classificació XGBoost\n",
    "        model = XGBClassifier(\n",
    "            max_depth=6,            # Profunditat màxima dels arbres de decisió\n",
    "            n_estimators=500,       # Nombre total d’arbres\n",
    "            learning_rate=0.01,     # Taxa d’aprenentatge\n",
    "            random_state=42         # Semilla per a la reproduïbilitat\n",
    "        )\n",
    "        model.fit(X_train_topics, y_train)\n",
    "        print(\"Iteracio: \"+str(i) )  # Impressió per indicar el progrés de la iteració\n",
    "        i=i+1\n",
    "        # Predicció de probabilitats per a la classe positiva i càlcul de la mètrica AUC-ROC\n",
    "        probs = model.predict_proba(X_test_topics)[:, 1]\n",
    "        auc = roc_auc_score(y_test, probs)\n",
    "        aucs.append(auc)\n",
    "        print(\"AUC-ROC: Fold \" + str(i) +  \" : \" + str(auc))  # Impressió de la puntuació AUC del fold actual\n",
    "\n",
    "    # Emmagatzematge de la mitjana de les puntuacions AUC per aquest valor de k\n",
    "    resultats.append({\"k\": k, \"auc_roc_mitjana\": np.mean(aucs)})"
   ]
  },
  {
   "cell_type": "code",
   "execution_count": 6,
   "id": "f12f1a0d",
   "metadata": {},
   "outputs": [
    {
     "name": "stdout",
     "output_type": "stream",
     "text": [
      "\n",
      " Resultats de validació creuada (mitjana AUC-ROC per a k=10):\n",
      "\n",
      " k  auc_roc_mitjana\n",
      "10           0.9657\n"
     ]
    }
   ],
   "source": [
    "# Organitzem els resultats\n",
    "df_resultats = pd.DataFrame(resultats)\n",
    "\n",
    "# Mostrar la taula de resultats\n",
    "print(\"\\n Resultats de validació creuada (mitjana AUC-ROC per a k=10):\\n\")\n",
    "print(df_resultats.to_string(index=False, float_format=\"%.4f\"))"
   ]
  }
 ],
 "metadata": {
  "kernelspec": {
   "display_name": "Python 3",
   "language": "python",
   "name": "python3"
  },
  "language_info": {
   "codemirror_mode": {
    "name": "ipython",
    "version": 3
   },
   "file_extension": ".py",
   "mimetype": "text/x-python",
   "name": "python",
   "nbconvert_exporter": "python",
   "pygments_lexer": "ipython3",
   "version": "3.13.1"
  }
 },
 "nbformat": 4,
 "nbformat_minor": 5
}
