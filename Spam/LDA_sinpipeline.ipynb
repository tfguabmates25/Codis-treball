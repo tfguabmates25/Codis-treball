{
 "cells": [
  {
   "cell_type": "code",
   "execution_count": 2,
   "id": "6c3873d3",
   "metadata": {},
   "outputs": [],
   "source": [
    "import pandas as pd\n",
    "import re\n",
    "import nltk\n",
    "from nltk.stem import WordNetLemmatizer\n",
    "from nltk.corpus import wordnet\n",
    "from sklearn.feature_extraction.text import CountVectorizer\n",
    "from sklearn.decomposition import LatentDirichletAllocation\n",
    "from sklearn.model_selection import StratifiedKFold\n",
    "from sklearn.metrics import roc_auc_score\n",
    "from xgboost import XGBClassifier\n",
    "import numpy as np"
   ]
  },
  {
   "cell_type": "code",
   "execution_count": 3,
   "id": "b1f83af7",
   "metadata": {},
   "outputs": [
    {
     "name": "stderr",
     "output_type": "stream",
     "text": [
      "[nltk_data] Downloading package punkt to\n",
      "[nltk_data]     C:\\Users\\tonie\\AppData\\Roaming\\nltk_data...\n",
      "[nltk_data]   Package punkt is already up-to-date!\n",
      "[nltk_data] Downloading package wordnet to\n",
      "[nltk_data]     C:\\Users\\tonie\\AppData\\Roaming\\nltk_data...\n",
      "[nltk_data]   Package wordnet is already up-to-date!\n",
      "[nltk_data] Downloading package averaged_perceptron_tagger to\n",
      "[nltk_data]     C:\\Users\\tonie\\AppData\\Roaming\\nltk_data...\n",
      "[nltk_data]   Package averaged_perceptron_tagger is already up-to-\n",
      "[nltk_data]       date!\n"
     ]
    },
    {
     "data": {
      "text/plain": [
       "True"
      ]
     },
     "execution_count": 3,
     "metadata": {},
     "output_type": "execute_result"
    }
   ],
   "source": [
    "# Descàrrega de recursos per a la lematització\n",
    "nltk.download('punkt')\n",
    "nltk.download('wordnet')\n",
    "nltk.download('averaged_perceptron_tagger')\n"
   ]
  },
  {
   "cell_type": "code",
   "execution_count": 4,
   "id": "de5cd1ac",
   "metadata": {},
   "outputs": [],
   "source": [
    "def eliminar_emojis(texto):\n",
    "    if isinstance(texto, str):\n",
    "        patron_emojis = re.compile(pattern=\"[\" \n",
    "            \"\\U0001F600-\\U0001F64F\" \"\\U0001F300-\\U0001F5FF\"\n",
    "            \"\\U0001F680-\\U0001F6FF\" \"\\U0001F700-\\U0001F77F\"\n",
    "            \"\\U0001F780-\\U0001F7FF\" \"\\U0001F800-\\U0001F8FF\"\n",
    "            \"\\U0001F900-\\U0001F9FF\" \"\\U0001FA00-\\U0001FA6F\"\n",
    "            \"\\U0001FA70-\\U0001FAFF\" \"\\U00002702-\\U000027B0\"\n",
    "            \"\\U000024C2-\\U0001F251\" \"]+\", flags=re.UNICODE)\n",
    "        return patron_emojis.sub(r'', texto)\n",
    "    return texto\n",
    "\n",
    "# Lematització\n",
    "lemmatizer = WordNetLemmatizer()\n",
    "def obtener_pos_tag(word):\n",
    "    tag = nltk.pos_tag([word])[0][1][0].upper()\n",
    "    tag_dict = {\"J\": wordnet.ADJ, \"N\": wordnet.NOUN, \"V\": wordnet.VERB, \"R\": wordnet.ADV}\n",
    "    return tag_dict.get(tag, wordnet.NOUN)\n",
    "\n",
    "def lematizar_texto(texto):\n",
    "    palabras = nltk.word_tokenize(texto)\n",
    "    palabras_lematizadas = [lemmatizer.lemmatize(p, obtener_pos_tag(p)) for p in palabras]\n",
    "    return ' '.join(palabras_lematizadas)\n",
    "\n",
    "# Dataset"
   ]
  },
  {
   "cell_type": "code",
   "execution_count": 5,
   "id": "5a0e2471",
   "metadata": {},
   "outputs": [
    {
     "name": "stderr",
     "output_type": "stream",
     "text": [
      "C:\\Users\\tonie\\AppData\\Local\\Temp\\ipykernel_13892\\2339917290.py:3: FutureWarning: Downcasting behavior in `replace` is deprecated and will be removed in a future version. To retain the old behavior, explicitly call `result.infer_objects(copy=False)`. To opt-in to the future behavior, set `pd.set_option('future.no_silent_downcasting', True)`\n",
      "  df['label'] = df['label'].replace({'ham': 0, 'spam': 1})\n"
     ]
    }
   ],
   "source": [
    "url = \"https://raw.githubusercontent.com/justmarkham/pycon-2016-tutorial/master/data/sms.tsv\"\n",
    "df = pd.read_csv(url, sep='\\t', header=None, names=['label', 'message'])\n",
    "df['label'] = df['label'].replace({'ham': 0, 'spam': 1})\n",
    "df['message'] = df['message'].apply(eliminar_emojis).apply(lematizar_texto)\n",
    "\n",
    "# Stopwords\n",
    "stopwords = ['a', 'an', 'the', 'in', 'on', 'at', 'to', 'of', 'and', 'or',\n",
    "             'is', 'it', 'for', 'with', 'that', 'this', 'as', 'was', 'be',\n",
    "             'are', 'were', 'been', 'from', 'by', 'about', 'into', 'out',\n",
    "             'up', 'down', 'over', 'under', 'then', 'than', 'so', 'but', 'not']\n",
    "\n",
    "X_text = df[\"message\"]\n",
    "y = df[\"label\"]\n"
   ]
  },
  {
   "cell_type": "code",
   "execution_count": 25,
   "id": "fa978f70",
   "metadata": {},
   "outputs": [],
   "source": [
    "\n",
    "valors_k = [10]\n",
    "resultats = []"
   ]
  },
  {
   "cell_type": "code",
   "execution_count": 27,
   "id": "047343ad",
   "metadata": {},
   "outputs": [
    {
     "name": "stdout",
     "output_type": "stream",
     "text": [
      "iteració\n",
      "iteració\n",
      "iteració\n",
      "iteració\n",
      "iteració\n"
     ]
    }
   ],
   "source": [
    "from sklearn.ensemble import GradientBoostingClassifier\n",
    "from sklearn.model_selection import StratifiedKFold\n",
    "\n",
    "\n",
    "\n",
    "# 5-fold CV manual per evitar data leakage\n",
    "skf = StratifiedKFold(n_splits=5, shuffle=True, random_state=42)\n",
    "\n",
    "for k in valors_k:\n",
    "    aucs = []\n",
    "    for train_index, test_index in skf.split(X_text, y):\n",
    "        X_train_raw, X_test_raw = X_text.iloc[train_index], X_text.iloc[test_index]\n",
    "        y_train, y_test = y.iloc[train_index], y.iloc[test_index]\n",
    "\n",
    "        vectorizer = CountVectorizer(max_features=10000, stop_words=stopwords)\n",
    "        X_train_counts = vectorizer.fit_transform(X_train_raw)\n",
    "        X_test_counts = vectorizer.transform(X_test_raw)\n",
    "\n",
    "        lda = LatentDirichletAllocation(n_components=k, random_state=42)\n",
    "        X_train_topics = lda.fit_transform(X_train_counts)\n",
    "        X_test_topics = lda.transform(X_test_counts)\n",
    "        model = XGBClassifier(\n",
    "            max_depth=6,\n",
    "            n_estimators=500,\n",
    "            learning_rate=0.01,\n",
    "            random_state=42\n",
    "        )\n",
    "        model.fit(X_train_topics, y_train)\n",
    "        probs = model.predict_proba(X_test_topics)[:, 1]\n",
    "        auc = roc_auc_score(y_test, probs)\n",
    "        aucs.append(auc)\n",
    "        print(\"iteració\")\n",
    "\n",
    "    resultats.append({\"k\": k, \"auc_roc_mitjana\": np.mean(aucs)})\n",
    "\n",
    "df_resultats = pd.DataFrame(resultats)"
   ]
  },
  {
   "cell_type": "code",
   "execution_count": 28,
   "id": "f12f1a0d",
   "metadata": {},
   "outputs": [
    {
     "data": {
      "text/html": [
       "<div>\n",
       "<style scoped>\n",
       "    .dataframe tbody tr th:only-of-type {\n",
       "        vertical-align: middle;\n",
       "    }\n",
       "\n",
       "    .dataframe tbody tr th {\n",
       "        vertical-align: top;\n",
       "    }\n",
       "\n",
       "    .dataframe thead th {\n",
       "        text-align: right;\n",
       "    }\n",
       "</style>\n",
       "<table border=\"1\" class=\"dataframe\">\n",
       "  <thead>\n",
       "    <tr style=\"text-align: right;\">\n",
       "      <th></th>\n",
       "      <th>k</th>\n",
       "      <th>auc_roc_mitjana</th>\n",
       "    </tr>\n",
       "  </thead>\n",
       "  <tbody>\n",
       "    <tr>\n",
       "      <th>0</th>\n",
       "      <td>10</td>\n",
       "      <td>0.965705</td>\n",
       "    </tr>\n",
       "    <tr>\n",
       "      <th>1</th>\n",
       "      <td>10</td>\n",
       "      <td>0.965705</td>\n",
       "    </tr>\n",
       "  </tbody>\n",
       "</table>\n",
       "</div>"
      ],
      "text/plain": [
       "    k  auc_roc_mitjana\n",
       "0  10         0.965705\n",
       "1  10         0.965705"
      ]
     },
     "execution_count": 28,
     "metadata": {},
     "output_type": "execute_result"
    }
   ],
   "source": [
    "df_resultats"
   ]
  }
 ],
 "metadata": {
  "kernelspec": {
   "display_name": "Python 3",
   "language": "python",
   "name": "python3"
  },
  "language_info": {
   "codemirror_mode": {
    "name": "ipython",
    "version": 3
   },
   "file_extension": ".py",
   "mimetype": "text/x-python",
   "name": "python",
   "nbconvert_exporter": "python",
   "pygments_lexer": "ipython3",
   "version": "3.13.1"
  }
 },
 "nbformat": 4,
 "nbformat_minor": 5
}
