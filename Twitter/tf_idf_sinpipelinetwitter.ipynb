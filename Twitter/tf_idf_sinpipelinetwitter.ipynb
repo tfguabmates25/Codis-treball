{
 "cells": [
  {
   "cell_type": "code",
   "execution_count": 5,
   "id": "f1b59859",
   "metadata": {},
   "outputs": [],
   "source": [
    "# Importació de llibreries per al processament de text,\n",
    "# reducció de dimensionalitat, classificació i validació\n",
    "\n",
    "import pandas as pd\n",
    "import numpy as np\n",
    "from sklearn.feature_extraction.text import TfidfVectorizer\n",
    "from sklearn.model_selection import StratifiedKFold\n",
    "from sklearn.linear_model import LogisticRegression\n",
    "from sklearn.metrics import roc_auc_score\n",
    "\n",
    "# Càrrega del conjunt de dades pre-processat i reduït\n",
    "# Es tracta d'un subconjunt del corpus Sentiment140 amb textos i etiquetes\n",
    "\n",
    "df_reduït = pd.read_csv('twitter_reduït_Dataset.csv', encoding='latin-1')\n",
    "\n",
    "# Separació de les variables predictives (textos) i de la variable objectiu (sentiment)\n",
    "X = df_reduït['text'].values\n",
    "y = df_reduït['target'].values\n",
    "\n",
    "# Definició d’una llista de paraules buides personalitzades\n",
    "# Aquestes paraules es filtraran durant la vectorització per no aportar informació rellevant\n",
    "\n",
    "stopwords_personalitzades = [\n",
    "    'as', 'an', 'the', 'in', 'on', 'at', 'to', 'of', 'and', 'or',\n",
    "    'is', 'it', 'for', 'with', 'that', 'this', 'was', 'be',\n",
    "    'are', 'were', 'been', 'from', 'by', 'about', 'into', 'out',\n",
    "    'up', 'down', 'over', 'under', 'then', 'than', 'so', 'but', 'not'\n",
    "]\n"
   ]
  },
  {
   "cell_type": "code",
   "execution_count": 7,
   "id": "e74b8501",
   "metadata": {},
   "outputs": [
    {
     "name": "stdout",
     "output_type": "stream",
     "text": [
      "iteració\n",
      "iteració\n",
      "iteració\n",
      "iteració\n",
      "iteració\n",
      "   C  auc_roc_mitjana\n",
      "0  1         0.823919\n"
     ]
    }
   ],
   "source": [
    "# Paràmetres a explorar\n",
    "valors_k = [10]\n",
    "valors_C = [1]\n",
    "\n",
    "# Inicialitzem els resultats\n",
    "resultats = []\n",
    "\n",
    "# Estratègia de validació creuada \n",
    "cv = StratifiedKFold(n_splits=5, shuffle=True, random_state=42)\n",
    "\n",
    "\n",
    "# Bucle sobre els diferents valors del paràmetre C\n",
    "for C in valors_C:\n",
    "    aucs = []\n",
    "\n",
    "    for train_idx, test_idx in cv.split(X, y):\n",
    "        texts_train = X[train_idx]\n",
    "        texts_test = X[test_idx]\n",
    "        y_train = y[train_idx]\n",
    "        y_test = y[test_idx]\n",
    "\n",
    "        # Vectorització TF-IDF ajustada només amb el conjunt d'entrenament\n",
    "        vectoritzador = TfidfVectorizer(max_features=10000, stop_words=stopwords_personalitzades)\n",
    "        X_train_vect = vectoritzador.fit_transform(texts_train)\n",
    "        X_test_vect = vectoritzador.transform(texts_test)\n",
    "\n",
    "        # Entrenament del model de regressió logística\n",
    "        model = LogisticRegression(\n",
    "            penalty='l2',\n",
    "            C=C,\n",
    "            solver='lbfgs',\n",
    "            max_iter=100,\n",
    "            random_state=42,\n",
    "        )\n",
    "        model.fit(X_train_vect, y_train)\n",
    "        print(\"iteració\")\n",
    "        # Avaluació amb AUC-ROC\n",
    "        probas = model.predict_proba(X_test_vect)[:, 1]\n",
    "        auc = roc_auc_score(y_test, probas)\n",
    "        aucs.append(auc)\n",
    "\n",
    "    resultats.append({'C': C, 'auc_roc_mitjana': np.mean(aucs)})\n",
    "\n",
    "# Resultats finals\n",
    "df_resultats = pd.DataFrame(resultats)\n",
    "print(df_resultats)\n"
   ]
  }
 ],
 "metadata": {
  "kernelspec": {
   "display_name": "Python 3",
   "language": "python",
   "name": "python3"
  },
  "language_info": {
   "codemirror_mode": {
    "name": "ipython",
    "version": 3
   },
   "file_extension": ".py",
   "mimetype": "text/x-python",
   "name": "python",
   "nbconvert_exporter": "python",
   "pygments_lexer": "ipython3",
   "version": "3.13.1"
  }
 },
 "nbformat": 4,
 "nbformat_minor": 5
}
