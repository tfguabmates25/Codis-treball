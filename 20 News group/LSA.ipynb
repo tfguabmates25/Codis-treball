{
 "cells": [
  {
   "cell_type": "code",
   "execution_count": 4,
   "id": "57110bc9",
   "metadata": {},
   "outputs": [],
   "source": [
    "# Importació de llibreries per a modelatge, processament de text i validació\n",
    "import pandas as pd\n",
    "import numpy as np\n",
    "from sklearn.datasets import fetch_20newsgroups\n",
    "from sklearn.feature_extraction.text import TfidfVectorizer\n",
    "from sklearn.decomposition import TruncatedSVD\n",
    "from sklearn.model_selection import StratifiedKFold\n",
    "from sklearn.metrics import roc_auc_score\n",
    "from xgboost import XGBClassifier # Classificador Gradient Boosting optimitzat\n",
    "\n",
    "\n",
    "# Càrrega del conjunt de dades ' Newsgroups', una col·lecció de textos en anglès classificats per temes\n",
    "\n",
    "dades = fetch_20newsgroups(subset='all', remove=())  # Es carrega el conjunt complet, sense eliminar cap part\n",
    "\n",
    "# Es crea un DataFrame amb el text dels documents i la seva etiqueta numèrica\n",
    "df = pd.DataFrame({\n",
    "    'text': dades.data,\n",
    "    'etiqueta_original': dades.target\n",
    "})\n",
    "\n",
    "# S’afegeix una columna amb el nom de la categoria textual corresponent a cada etiqueta\n",
    "noms_categories = dades.target_names\n",
    "df['tema'] = df['etiqueta_original'].apply(lambda x: noms_categories[x])\n",
    "\n",
    "# Definició d'una variable binària \"esport\"\n",
    "# Classes positives: categories relacionades amb esports i motors\n",
    "\n",
    "categories_esport = ['rec.sport.baseball', 'rec.sport.hockey', 'rec.autos', 'rec.motorcycles']\n",
    "df['esport'] = df['tema'].apply(lambda x: 1 if x in categories_esport else 0)\n",
    "\n",
    "# Separació de les dades (X) i etiquetes binàries (y)\n",
    "\n",
    "X = df['text'].values\n",
    "y = df['esport'].values\n",
    "\n",
    "# Definició d’una llista de paraules buides personalitzada\n",
    "# Aquestes paraules seran ignorades durant la vectorització\n",
    "\n",
    "stopwords = [\n",
    "    'as', 'an', 'the', 'in', 'on', 'at', 'to', 'of', 'and', 'or',\n",
    "    'is', 'it', 'for', 'with', 'that', 'this', 'was', 'be',\n",
    "    'are', 'were', 'been', 'from', 'by', 'about', 'into', 'out',\n",
    "    'up', 'down', 'over', 'under', 'then', 'than', 'so', 'but', 'not'\n",
    "]"
   ]
  },
  {
   "cell_type": "code",
   "execution_count": 7,
   "id": "7c214dfb",
   "metadata": {},
   "outputs": [
    {
     "name": "stderr",
     "output_type": "stream",
     "text": [
      "c:\\Users\\tonie\\AppData\\Local\\Programs\\Python\\Python313\\Lib\\site-packages\\xgboost\\training.py:183: UserWarning: [00:13:13] WARNING: C:\\actions-runner\\_work\\xgboost\\xgboost\\src\\learner.cc:738: \n",
      "Parameters: { \"use_label_encoder\" } are not used.\n",
      "\n",
      "  bst.update(dtrain, iteration=i, fobj=obj)\n"
     ]
    },
    {
     "name": "stdout",
     "output_type": "stream",
     "text": [
      "Iteracio: 0\n",
      "AUC-ROC: Fold 0:0.9871638792482926\n"
     ]
    },
    {
     "name": "stderr",
     "output_type": "stream",
     "text": [
      "c:\\Users\\tonie\\AppData\\Local\\Programs\\Python\\Python313\\Lib\\site-packages\\xgboost\\training.py:183: UserWarning: [00:13:35] WARNING: C:\\actions-runner\\_work\\xgboost\\xgboost\\src\\learner.cc:738: \n",
      "Parameters: { \"use_label_encoder\" } are not used.\n",
      "\n",
      "  bst.update(dtrain, iteration=i, fobj=obj)\n"
     ]
    },
    {
     "name": "stdout",
     "output_type": "stream",
     "text": [
      "Iteracio: 1\n",
      "AUC-ROC: Fold 1:0.9904466834677931\n"
     ]
    },
    {
     "name": "stderr",
     "output_type": "stream",
     "text": [
      "c:\\Users\\tonie\\AppData\\Local\\Programs\\Python\\Python313\\Lib\\site-packages\\xgboost\\training.py:183: UserWarning: [00:13:58] WARNING: C:\\actions-runner\\_work\\xgboost\\xgboost\\src\\learner.cc:738: \n",
      "Parameters: { \"use_label_encoder\" } are not used.\n",
      "\n",
      "  bst.update(dtrain, iteration=i, fobj=obj)\n"
     ]
    },
    {
     "name": "stdout",
     "output_type": "stream",
     "text": [
      "Iteracio: 2\n",
      "AUC-ROC: Fold 2:0.9893480182615061\n"
     ]
    },
    {
     "name": "stderr",
     "output_type": "stream",
     "text": [
      "c:\\Users\\tonie\\AppData\\Local\\Programs\\Python\\Python313\\Lib\\site-packages\\xgboost\\training.py:183: UserWarning: [00:14:17] WARNING: C:\\actions-runner\\_work\\xgboost\\xgboost\\src\\learner.cc:738: \n",
      "Parameters: { \"use_label_encoder\" } are not used.\n",
      "\n",
      "  bst.update(dtrain, iteration=i, fobj=obj)\n"
     ]
    },
    {
     "name": "stdout",
     "output_type": "stream",
     "text": [
      "Iteracio: 3\n",
      "AUC-ROC: Fold 3:0.9931791906048912\n"
     ]
    },
    {
     "name": "stderr",
     "output_type": "stream",
     "text": [
      "c:\\Users\\tonie\\AppData\\Local\\Programs\\Python\\Python313\\Lib\\site-packages\\xgboost\\training.py:183: UserWarning: [00:14:38] WARNING: C:\\actions-runner\\_work\\xgboost\\xgboost\\src\\learner.cc:738: \n",
      "Parameters: { \"use_label_encoder\" } are not used.\n",
      "\n",
      "  bst.update(dtrain, iteration=i, fobj=obj)\n"
     ]
    },
    {
     "name": "stdout",
     "output_type": "stream",
     "text": [
      "Iteracio: 4\n",
      "AUC-ROC: Fold 4:0.9907309893289009\n"
     ]
    }
   ],
   "source": [
    "\n",
    "i=0# Definició del rang de valors per al paràmetre k (nombre de components SVD)\n",
    "# i inicialització de la llista per emmagatzemar els resultats\n",
    "\n",
    "valors_k = [100]  # Nombre de components latents a conservar amb SVD (LSA)\n",
    "resultats = []    # Llista que contindrà el rendiment mitjà per a cada valor de k\n",
    "\n",
    "# Configuració de la validació creuada estratificada amb 5 particions\n",
    "# Es manté la proporció de classes entre entrenament i test en cada fold\n",
    "\n",
    "cv = StratifiedKFold(n_splits=5, shuffle=True, random_state=42)\n",
    "\n",
    "# Iteració principal per cada valor de components (k) a aplicar amb SVD\n",
    "\n",
    "for k in valors_k:\n",
    "    puntuacions = []  # Llista per desar els valors AUC-ROC de cada fold\n",
    "\n",
    "    for train_idx, test_idx in cv.split(X, y):\n",
    "        # Separació de les dades en conjunts d'entrenament i test\n",
    "\n",
    "        X_train_raw, X_test_raw = X[train_idx], X[test_idx]\n",
    "        y_train, y_test = y[train_idx], y[test_idx]\n",
    "\n",
    "        # Vectorització del text mitjançant TF-IDF\n",
    "        # S’ajusta només sobre l’entrenament per evitar fuita d'informació\n",
    "\n",
    "        tfidf = TfidfVectorizer(max_features=10000)\n",
    "        X_train_tfidf = tfidf.fit_transform(X_train_raw)\n",
    "        X_test_tfidf = tfidf.transform(X_test_raw)\n",
    "\n",
    "        # Reducció de dimensionalitat amb Truncated SVD (LSA)\n",
    "        # Es redueix la representació TF-IDF a k dimensions latents\n",
    "\n",
    "        svd = TruncatedSVD(n_components=k, random_state=42)\n",
    "        X_train_svd = svd.fit_transform(X_train_tfidf)\n",
    "        X_test_svd = svd.transform(X_test_tfidf)\n",
    "\n",
    "        # Entrenament del model XGBoost per classificació binària\n",
    "        # Paràmetres:\n",
    "        # - max_depth: profunditat màxima dels arbres\n",
    "        # - n_estimators: nombre d'arbres en el model \n",
    "        # - use_label_encoder: desactivat per evitar advertiments antics\n",
    "        # - eval_metric: mètrica utilitzada durant l’entrenament\n",
    "\n",
    "        model = XGBClassifier(\n",
    "            max_depth=6,\n",
    "            n_estimators=500,\n",
    "            use_label_encoder=False,\n",
    "            eval_metric='logloss',\n",
    "            random_state=42\n",
    "        )\n",
    "        model.fit(X_train_svd, y_train)\n",
    "        print(\"Iteracio: \"+str(i) )  # Missatge per indicar que una iteració ha finalitzat\n",
    "\n",
    "        # Predicció de probabilitats i càlcul de la mètrica AUC-ROC\n",
    "        # Aquesta mètrica mesura la capacitat del model per separar les classes\n",
    "\n",
    "        probs = model.predict_proba(X_test_svd)[:, 1]\n",
    "        auc = roc_auc_score(y_test, probs)\n",
    "        puntuacions.append(auc)\n",
    "        print(\"AUC-ROC: Fold \" + str(i) +  \":\" + str(auc))  # Impressió de la puntuació AUC del fold actual\n",
    "        i=i+1\n",
    "    # Un cop completats els 5 folds, es calcula la mitjana de les puntuacions\n",
    "    # i s’emmagatzema el resultat per al valor de k actual\n",
    "\n",
    "    resultats.append({\n",
    "        'k_components': k,\n",
    "        'auc_roc_mitjana': np.mean(puntuacions)\n",
    "    })\n"
   ]
  },
  {
   "cell_type": "code",
   "execution_count": 9,
   "id": "897e0e08",
   "metadata": {},
   "outputs": [
    {
     "name": "stdout",
     "output_type": "stream",
     "text": [
      "\n",
      " Resultats de validació creuada (mitjana AUC-ROC per a cada valor de k=100):\n",
      "\n",
      " k_components  auc_roc_mitjana\n",
      "          100           0.9902\n"
     ]
    }
   ],
   "source": [
    "# Organitzem els resultats\n",
    "df_resultats = pd.DataFrame(resultats)\n",
    "\n",
    "# Mostrar la taula de resultats\n",
    "print(\"\\n Resultats de validació creuada (mitjana AUC-ROC per a cada valor de k=100):\\n\")\n",
    "print(df_resultats.to_string(index=False, float_format=\"%.4f\"))"
   ]
  }
 ],
 "metadata": {
  "kernelspec": {
   "display_name": "Python 3",
   "language": "python",
   "name": "python3"
  },
  "language_info": {
   "codemirror_mode": {
    "name": "ipython",
    "version": 3
   },
   "file_extension": ".py",
   "mimetype": "text/x-python",
   "name": "python",
   "nbconvert_exporter": "python",
   "pygments_lexer": "ipython3",
   "version": "3.13.1"
  }
 },
 "nbformat": 4,
 "nbformat_minor": 5
}
