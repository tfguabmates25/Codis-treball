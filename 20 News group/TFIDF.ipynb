{
 "cells": [
  {
   "cell_type": "code",
   "execution_count": 1,
   "id": "7818e8f5",
   "metadata": {},
   "outputs": [],
   "source": [
    "# Importació de llibreries per a modelatge, processament de text i validació\n",
    "\n",
    "import pandas as pd\n",
    "import numpy as np\n",
    "from sklearn.datasets import fetch_20newsgroups\n",
    "from sklearn.feature_extraction.text import TfidfVectorizer\n",
    "from sklearn.model_selection import StratifiedKFold\n",
    "from sklearn.metrics import roc_auc_score\n",
    "from xgboost import XGBClassifier  # Classificador Gradient Boosting optimitzat\n",
    "\n",
    "# Càrrega del conjunt de dades '20 Newsgroups', una col·lecció de textos en anglès classificats per temes\n",
    "\n",
    "dades = fetch_20newsgroups(subset='all', remove=())  # Es carrega el conjunt complet, sense eliminar cap part\n",
    "\n",
    "# Es crea un DataFrame amb el text dels documents i la seva etiqueta numèrica\n",
    "df = pd.DataFrame({\n",
    "    'text': dades.data,\n",
    "    'etiqueta_original': dades.target\n",
    "})\n",
    "\n",
    "# S’afegeix una columna amb el nom de la categoria textual corresponent a cada etiqueta\n",
    "noms_categories = dades.target_names\n",
    "df['tema'] = df['etiqueta_original'].apply(lambda x: noms_categories[x])\n",
    "\n",
    "# Definició d'una variable binària \"esport\"\n",
    "# Classes positives: categories relacionades amb esports i motors\n",
    "\n",
    "categories_esport = ['rec.sport.baseball', 'rec.sport.hockey', 'rec.autos', 'rec.motorcycles']\n",
    "df['esport'] = df['tema'].apply(lambda x: 1 if x in categories_esport else 0)\n",
    "\n",
    "# Separació de les dades (X) i etiquetes binàries (y)\n",
    "\n",
    "X = df['text'].values\n",
    "y = df['esport'].values\n",
    "\n",
    "# Definició d’una llista de paraules buides personalitzada\n",
    "# Aquestes paraules seran ignorades durant la vectorització\n",
    "\n",
    "stopwords = [\n",
    "    'as', 'an', 'the', 'in', 'on', 'at', 'to', 'of', 'and', 'or',\n",
    "    'is', 'it', 'for', 'with', 'that', 'this', 'was', 'be',\n",
    "    'are', 'were', 'been', 'from', 'by', 'about', 'into', 'out',\n",
    "    'up', 'down', 'over', 'under', 'then', 'than', 'so', 'but', 'not'\n",
    "]\n"
   ]
  },
  {
   "cell_type": "code",
   "execution_count": 8,
   "id": "61ac06a6",
   "metadata": {},
   "outputs": [
    {
     "name": "stderr",
     "output_type": "stream",
     "text": [
      "c:\\Users\\tonie\\AppData\\Local\\Programs\\Python\\Python313\\Lib\\site-packages\\xgboost\\training.py:183: UserWarning: [23:59:15] WARNING: C:\\actions-runner\\_work\\xgboost\\xgboost\\src\\learner.cc:738: \n",
      "Parameters: { \"use_label_encoder\" } are not used.\n",
      "\n",
      "  bst.update(dtrain, iteration=i, fobj=obj)\n"
     ]
    },
    {
     "name": "stdout",
     "output_type": "stream",
     "text": [
      "Iteracio: 0\n",
      "AUC-ROC: Fold 1:0.9914700435601005\n"
     ]
    },
    {
     "name": "stderr",
     "output_type": "stream",
     "text": [
      "c:\\Users\\tonie\\AppData\\Local\\Programs\\Python\\Python313\\Lib\\site-packages\\xgboost\\training.py:183: UserWarning: [00:01:25] WARNING: C:\\actions-runner\\_work\\xgboost\\xgboost\\src\\learner.cc:738: \n",
      "Parameters: { \"use_label_encoder\" } are not used.\n",
      "\n",
      "  bst.update(dtrain, iteration=i, fobj=obj)\n"
     ]
    },
    {
     "name": "stdout",
     "output_type": "stream",
     "text": [
      "Iteracio: 1\n",
      "AUC-ROC: Fold 2:0.9903283656763467\n"
     ]
    },
    {
     "name": "stderr",
     "output_type": "stream",
     "text": [
      "c:\\Users\\tonie\\AppData\\Local\\Programs\\Python\\Python313\\Lib\\site-packages\\xgboost\\training.py:183: UserWarning: [00:03:37] WARNING: C:\\actions-runner\\_work\\xgboost\\xgboost\\src\\learner.cc:738: \n",
      "Parameters: { \"use_label_encoder\" } are not used.\n",
      "\n",
      "  bst.update(dtrain, iteration=i, fobj=obj)\n"
     ]
    },
    {
     "name": "stdout",
     "output_type": "stream",
     "text": [
      "Iteracio: 2\n",
      "AUC-ROC: Fold 3:0.9891287077837895\n"
     ]
    },
    {
     "name": "stderr",
     "output_type": "stream",
     "text": [
      "c:\\Users\\tonie\\AppData\\Local\\Programs\\Python\\Python313\\Lib\\site-packages\\xgboost\\training.py:183: UserWarning: [00:05:56] WARNING: C:\\actions-runner\\_work\\xgboost\\xgboost\\src\\learner.cc:738: \n",
      "Parameters: { \"use_label_encoder\" } are not used.\n",
      "\n",
      "  bst.update(dtrain, iteration=i, fobj=obj)\n"
     ]
    },
    {
     "name": "stdout",
     "output_type": "stream",
     "text": [
      "Iteracio: 3\n",
      "AUC-ROC: Fold 4:0.9942759542752444\n"
     ]
    },
    {
     "name": "stderr",
     "output_type": "stream",
     "text": [
      "c:\\Users\\tonie\\AppData\\Local\\Programs\\Python\\Python313\\Lib\\site-packages\\xgboost\\training.py:183: UserWarning: [00:08:12] WARNING: C:\\actions-runner\\_work\\xgboost\\xgboost\\src\\learner.cc:738: \n",
      "Parameters: { \"use_label_encoder\" } are not used.\n",
      "\n",
      "  bst.update(dtrain, iteration=i, fobj=obj)\n"
     ]
    },
    {
     "name": "stdout",
     "output_type": "stream",
     "text": [
      "Iteracio: 4\n",
      "AUC-ROC: Fold 5:0.9922045568934963\n"
     ]
    }
   ],
   "source": [
    "i=0\n",
    "# Inicialització de la validació creuada \n",
    "# Es divideix el conjunt de dades en 5 particions (folds)\n",
    "\n",
    "cv = StratifiedKFold(n_splits=5, shuffle=True, random_state=42)\n",
    "scores = []  # Llista per emmagatzemar la puntuació AUC de cada fold\n",
    "# Entrenament i avaluació del model per a cada fold\n",
    "\n",
    "for train_idx, test_idx in cv.split(X, y):\n",
    "    # Separació de les dades en conjunt d'entrenament i de prova\n",
    "    X_train_raw, X_test_raw = X[train_idx], X[test_idx]\n",
    "    y_train, y_test = y[train_idx], y[test_idx]\n",
    "\n",
    "    # Vectorització del text amb TF-IDF\n",
    "    # El vectoritzador només s’ajusta sobre el conjunt d'entrenament\n",
    "    # per evitar qualsevol filtració d'informació (data leakage)\n",
    "\n",
    "    vectoritzador = TfidfVectorizer(max_features=10000, stop_words=stopwords)\n",
    "    X_train = vectoritzador.fit_transform(X_train_raw)\n",
    "    X_test = vectoritzador.transform(X_test_raw)\n",
    "\n",
    "\n",
    "    # Entrenament del model XGBoost (Gradient Boosting per classificació binària)\n",
    "    # Paràmetres comuns: profunditat màxima, nombre d'arbres, mètrica i semilla\n",
    "\n",
    "\n",
    "    model = XGBClassifier(\n",
    "        max_depth=6,\n",
    "        n_estimators=500,  \n",
    "        use_label_encoder=False, # Es desactiva per evitar warnings antics\n",
    "        eval_metric='logloss',\n",
    "        random_state=42\n",
    "    )\n",
    "    model.fit(X_train, y_train)\n",
    "\n",
    "    print(\"Iteracio: \"+str(i) ) #Missatge indicatiu del progrés\n",
    "    i=i+1\n",
    "\n",
    "    # Predicció de probabilitats per a la classe positiva (1)\n",
    "    # i càlcul de la mètrica AUC-ROC sobre el conjunt de prova\n",
    "\n",
    "    probs = model.predict_proba(X_test)[:, 1]\n",
    "    auc = roc_auc_score(y_test, probs)\n",
    "    print(\"AUC-ROC: Fold \" + str(i) +  \":\" + str(auc))  # Impressió de la puntuació AUC del fold actual\n",
    "\n",
    "    scores.append(auc)  # S’afegeix el resultat del fold actual\n"
   ]
  },
  {
   "cell_type": "code",
   "execution_count": 10,
   "id": "e0712ef2",
   "metadata": {},
   "outputs": [
    {
     "name": "stdout",
     "output_type": "stream",
     "text": [
      "\n",
      " Resultats de validació creuada (mitjana AUC-ROC per a k=10000):\n",
      "\n",
      " k_components  auc_roc_mitjana\n",
      "        10000           0.9915\n"
     ]
    }
   ],
   "source": [
    "# Organitzem els resultats\n",
    "resultats=[]\n",
    "resultats.append({\n",
    "        'k_components': 10000,\n",
    "        'auc_roc_mitjana': np.mean(scores)\n",
    "    })\n",
    "\n",
    "df_resultats = pd.DataFrame(resultats)\n",
    "\n",
    "# Mostrar la taula de resultats\n",
    "print(\"\\n Resultats de validació creuada (mitjana AUC-ROC per a k=10000):\\n\")\n",
    "print(df_resultats.to_string(index=False, float_format=\"%.4f\"))"
   ]
  }
 ],
 "metadata": {
  "kernelspec": {
   "display_name": "Python 3",
   "language": "python",
   "name": "python3"
  },
  "language_info": {
   "codemirror_mode": {
    "name": "ipython",
    "version": 3
   },
   "file_extension": ".py",
   "mimetype": "text/x-python",
   "name": "python",
   "nbconvert_exporter": "python",
   "pygments_lexer": "ipython3",
   "version": "3.13.1"
  }
 },
 "nbformat": 4,
 "nbformat_minor": 5
}
