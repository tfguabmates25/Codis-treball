{
 "cells": [
  {
   "cell_type": "code",
   "execution_count": 1,
   "id": "7818e8f5",
   "metadata": {},
   "outputs": [],
   "source": [
    "# Importació de llibreries per a modelatge, processament de text i validació\n",
    "\n",
    "import pandas as pd\n",
    "import numpy as np\n",
    "from sklearn.datasets import fetch_20newsgroups\n",
    "from sklearn.feature_extraction.text import TfidfVectorizer\n",
    "from sklearn.model_selection import StratifiedKFold\n",
    "from sklearn.metrics import roc_auc_score\n",
    "from xgboost import XGBClassifier  # Classificador Gradient Boosting optimitzat\n",
    "\n",
    "# Càrrega del conjunt de dades '20 Newsgroups', una col·lecció de textos en anglès classificats per temes\n",
    "\n",
    "dades = fetch_20newsgroups(subset='all', remove=())  # Es carrega el conjunt complet, sense eliminar cap part\n",
    "\n",
    "# Es crea un DataFrame amb el text dels documents i la seva etiqueta numèrica\n",
    "df = pd.DataFrame({\n",
    "    'text': dades.data,\n",
    "    'etiqueta_original': dades.target\n",
    "})\n",
    "\n",
    "# S’afegeix una columna amb el nom de la categoria textual corresponent a cada etiqueta\n",
    "noms_categories = dades.target_names\n",
    "df['tema'] = df['etiqueta_original'].apply(lambda x: noms_categories[x])\n",
    "\n",
    "# Definició d'una variable binària \"esport\"\n",
    "# Classes positives: categories relacionades amb esports i motors\n",
    "\n",
    "categories_esport = ['rec.sport.baseball', 'rec.sport.hockey', 'rec.autos', 'rec.motorcycles']\n",
    "df['esport'] = df['tema'].apply(lambda x: 1 if x in categories_esport else 0)\n",
    "\n",
    "# Separació de les dades (X) i etiquetes binàries (y)\n",
    "\n",
    "X = df['text'].values\n",
    "y = df['esport'].values\n",
    "\n",
    "# Definició d’una llista de paraules buides personalitzada\n",
    "# Aquestes paraules seran ignorades durant la vectorització\n",
    "\n",
    "stopwords = [\n",
    "    'as', 'an', 'the', 'in', 'on', 'at', 'to', 'of', 'and', 'or',\n",
    "    'is', 'it', 'for', 'with', 'that', 'this', 'was', 'be',\n",
    "    'are', 'were', 'been', 'from', 'by', 'about', 'into', 'out',\n",
    "    'up', 'down', 'over', 'under', 'then', 'than', 'so', 'but', 'not'\n",
    "]\n"
   ]
  },
  {
   "cell_type": "code",
   "execution_count": 2,
   "id": "61ac06a6",
   "metadata": {},
   "outputs": [
    {
     "name": "stdout",
     "output_type": "stream",
     "text": [  ]
    },
    {
     "name": "stdout",
     "output_type": "stream",
     "text": [
      "iteracio\n",
      "[np.float64(0.9914700435601005)]\n"
     ]
    },
    {
     "name": "stdout",
     "output_type": "stream",
     "text": []
    },
    {
     "name": "stdout",
     "output_type": "stream",
     "text": [
      "iteracio\n",
      "[np.float64(0.9914700435601005), np.float64(0.9903283656763467)]\n"
     ]
    },
    {
     "name": "stdout",
     "output_type": "stream",
     "text": []
    },
    {
     "name": "stdout",
     "output_type": "stream",
     "text": [
      "iteracio\n",
      "[np.float64(0.9914700435601005), np.float64(0.9903283656763467), np.float64(0.9891287077837895)]\n"
     ]
    },
    {
     "name": "stdout",
     "output_type": "stream",
     "text": []
    },
    {
     "name": "stdout",
     "output_type": "stream",
     "text": [
      "iteracio\n",
      "[np.float64(0.9914700435601005), np.float64(0.9903283656763467), np.float64(0.9891287077837895), np.float64(0.9942759542752444)]\n"
     ]
    },
    {
     "name": "stdout",
     "output_type": "stream",
     "text": [ ]
    },
    {
     "name": "stdout",
     "output_type": "stream",
     "text": [
      "iteracio\n",
      "[np.float64(0.9914700435601005), np.float64(0.9903283656763467), np.float64(0.9891287077837895), np.float64(0.9942759542752444), np.float64(0.9922045568934963)]\n",
      "Puntuacions AUC-ROC per fold: [0.9915 0.9903 0.9891 0.9943 0.9922]\n",
      "Mitjana AUC-ROC (CV): 0.9915\n"
     ]
    }
   ],
   "source": [
    "# Inicialització de la validació creuada \n",
    "# Es divideix el conjunt de dades en 5 particions (folds)\n",
    "\n",
    "cv = StratifiedKFold(n_splits=5, shuffle=True, random_state=42)\n",
    "scores = []  # Llista per emmagatzemar la puntuació AUC de cada fold\n",
    "# Entrenament i avaluació del model per a cada fold\n",
    "\n",
    "for train_idx, test_idx in cv.split(X, y):\n",
    "    # Separació de les dades en conjunt d'entrenament i de prova\n",
    "    X_train_raw, X_test_raw = X[train_idx], X[test_idx]\n",
    "    y_train, y_test = y[train_idx], y[test_idx]\n",
    "\n",
    "    # Vectorització del text amb TF-IDF\n",
    "    # El vectoritzador només s’ajusta sobre el conjunt d'entrenament\n",
    "    # per evitar qualsevol filtració d'informació (data leakage)\n",
    "\n",
    "    vectoritzador = TfidfVectorizer(max_features=10000, stop_words=stopwords)\n",
    "    X_train = vectoritzador.fit_transform(X_train_raw)\n",
    "    X_test = vectoritzador.transform(X_test_raw)\n",
    "\n",
    "\n",
    "    # Entrenament del model XGBoost (Gradient Boosting per classificació binària)\n",
    "    # Paràmetres comuns: profunditat màxima, nombre d'arbres, mètrica i semilla\n",
    "\n",
    "\n",
    "    model = XGBClassifier(\n",
    "        max_depth=6,\n",
    "        n_estimators=500,  \n",
    "        use_label_encoder=False, # Es desactiva per evitar warnings antics\n",
    "        eval_metric='logloss',\n",
    "        random_state=42\n",
    "    )\n",
    "    model.fit(X_train, y_train)\n",
    "\n",
    "    print(\"iteracio\")  # Missatge indicatiu de progrés\n",
    "\n",
    "    # Predicció de probabilitats per a la classe positiva (1)\n",
    "    # i càlcul de la mètrica AUC-ROC sobre el conjunt de prova\n",
    "\n",
    "    probs = model.predict_proba(X_test)[:, 1]\n",
    "    auc = roc_auc_score(y_test, probs)\n",
    "    scores.append(auc)  # S’afegeix el resultat del fold actual\n",
    "\n",
    "    # Impressió de les puntuacions acumulades fins al moment\n",
    "    print(scores)\n",
    "\n",
    "# Resultats finals de la validació creuada\n",
    "\n",
    "scores = np.array(scores)\n",
    "\n",
    "# Impressió de les puntuacions AUC per a cada fold amb 4 decimals\n",
    "print(\"Puntuacions AUC-ROC per fold:\", np.round(scores, 4))\n",
    "\n",
    "# Impressió de la mitjana global de l’AUC-ROC\n",
    "print(f\"Mitjana AUC-ROC (CV): {scores.mean():.4f}\")\n"
   ]
  }
 ],
 "metadata": {
  "kernelspec": {
   "display_name": "Python 3",
   "language": "python",
   "name": "python3"
  },
  "language_info": {
   "codemirror_mode": {
    "name": "ipython",
    "version": 3
   },
   "file_extension": ".py",
   "mimetype": "text/x-python",
   "name": "python",
   "nbconvert_exporter": "python",
   "pygments_lexer": "ipython3",
   "version": "3.13.1"
  }
 },
 "nbformat": 4,
 "nbformat_minor": 5
}
